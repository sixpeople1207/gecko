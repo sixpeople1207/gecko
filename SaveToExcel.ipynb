{
 "cells": [
  {
   "cell_type": "code",
   "execution_count": 200,
   "metadata": {},
   "outputs": [
    {
     "name": "stdout",
     "output_type": "stream",
     "text": [
      "저장완료.\n"
     ]
    }
   ],
   "source": [
    "import pandas as pd\n",
    "import sqlite3 \n",
    "import math\n",
    "import glob\n",
    "\n",
    "pd.set_option('display.max_rows', None)\n",
    "list = glob.glob('./*db')\n",
    "    \n",
    "conn = sqlite3.connect('./CoinData.db')\n",
    "\n",
    "try:\n",
    "    coinlist = pd.read_sql(\"SELECT * FROM CoinList\", conn)\n",
    "    history = pd.read_sql(\"SELECT * FROM CoinHistory\", conn)\n",
    "\n",
    "    fromDate = '2022-01-05 09:00:00'\n",
    "    endDate = '2023-08-05 09:00:00'\n",
    "    columns = ['Name','FromPrice','MaxPrice','Per']\n",
    "\n",
    "    df = pd.DataFrame(columns=columns)\n",
    "    index=0\n",
    "    for coin in coinlist['Name']:\n",
    "        index+=1\n",
    "        indexPrice = history[(history['Name'] == coin) &\n",
    "                            (history['Date'] == fromDate)]\n",
    "        sliceHistory = history.loc[(history['Name'] == coin) &\n",
    "                                (history['Date'] < endDate)]\n",
    "        maxPrice = sliceHistory.max(axis=0)\n",
    "\n",
    "        if(len(indexPrice) > 0):\n",
    "            per = round(\n",
    "                float(maxPrice['Price']/indexPrice['Price'].values), 1)*100\n",
    "            df = df.append(\n",
    "                {'Name': coin, 'FromPrice': indexPrice['Price'].values[0], 'MaxPrice': maxPrice['Price'], 'Per': per}, ignore_index=True)\n",
    "        else:\n",
    "            per = \"-\"\n",
    "            df = df.append(\n",
    "                {'Name': coin, 'FromPrice': \"없음\", 'MaxPrice': maxPrice['Price'], 'Per': per}, ignore_index=True)\n",
    "    df.to_excel('ppd.xlsx', index=False)\n",
    "    # with pd.ExcelWriter('./per.xlsx', engine='xlsxwriter') as writer:\n",
    "    #     df.to_excel(writer, index=False)\n",
    "    #     ws = writer.sheets['코인캑코']\n",
    "    # ## 칼럼 폭 조절\n",
    "    # for i, col in enumerate(df.columns):\n",
    "    #     width = '30'\n",
    "    #     ws.set_column(i, i, width+1) ## 여백을 위해 1 추가\n",
    "    #     ws.autofilter(0, 0, df.shape[0] - 1, df.shape[1] - 1) ## 첫 행 필터 추가\n",
    "    #     ws.freeze_panes(1, 0) ## 첫 행 고정\n",
    "    print('저장완료.')\n",
    "except Exception as e:\n",
    "    print('Error.',e)\n",
    "\n"
   ]
  },
  {
   "cell_type": "code",
   "execution_count": 189,
   "metadata": {},
   "outputs": [
    {
     "name": "stdout",
     "output_type": "stream",
     "text": [
      "^C\n"
     ]
    }
   ],
   "source": []
  },
  {
   "cell_type": "code",
   "execution_count": 2,
   "metadata": {},
   "outputs": [
    {
     "data": {
      "text/plain": [
       "['', 'Users', 'jed', 'Desktop', '개발', 'Gecko', 'gecko']"
      ]
     },
     "execution_count": 2,
     "metadata": {},
     "output_type": "execute_result"
    }
   ],
   "source": [
    "import os\n",
    "\n",
    "path = os.getcwd().split('/')\n",
    "\n",
    "for i in range(2):\n",
    "    new += '/' + path[i]\n",
    "    "
   ]
  },
  {
   "cell_type": "code",
   "execution_count": null,
   "metadata": {},
   "outputs": [],
   "source": []
  }
 ],
 "metadata": {
  "kernelspec": {
   "display_name": "Python 3",
   "language": "python",
   "name": "python3"
  },
  "language_info": {
   "codemirror_mode": {
    "name": "ipython",
    "version": 3
   },
   "file_extension": ".py",
   "mimetype": "text/x-python",
   "name": "python",
   "nbconvert_exporter": "python",
   "pygments_lexer": "ipython3",
   "version": "3.9.7"
  },
  "orig_nbformat": 4
 },
 "nbformat": 4,
 "nbformat_minor": 2
}
