{
 "cells": [
  {
   "cell_type": "code",
   "execution_count": 200,
   "metadata": {},
   "outputs": [
    {
     "name": "stdout",
     "output_type": "stream",
     "text": [
      "저장완료.\n"
     ]
    }
   ],
   "source": [
    "import pandas as pd\n",
    "import sqlite3 \n",
    "import math\n",
    "import glob\n",
    "\n",
    "pd.set_option('display.max_rows', None)\n",
    "list = glob.glob('./*db')\n",
    "    \n",
    "conn = sqlite3.connect('./CoinData.db')\n",
    "\n",
    "try:\n",
    "    coinlist = pd.read_sql(\"SELECT * FROM CoinList\", conn)\n",
    "    history = pd.read_sql(\"SELECT * FROM CoinHistory\", conn)\n",
    "\n",
    "    fromDate = '2022-01-05 09:00:00'\n",
    "    endDate = '2023-08-05 09:00:00'\n",
    "    columns = ['Name','FromPrice','MaxPrice','Per']\n",
    "\n",
    "    df = pd.DataFrame(columns=columns)\n",
    "    index=0\n",
    "    for coin in coinlist['Name']:\n",
    "        index+=1\n",
    "        indexPrice = history[(history['Name'] == coin) &\n",
    "                            (history['Date'] == fromDate)]\n",
    "        sliceHistory = history.loc[(history['Name'] == coin) &\n",
    "                                (history['Date'] < endDate)]\n",
    "        maxPrice = sliceHistory.max(axis=0)\n",
    "\n",
    "        if(len(indexPrice) > 0):\n",
    "            per = round(\n",
    "                float(maxPrice['Price']/indexPrice['Price'].values), 1)*100\n",
    "            df = df.append(\n",
    "                {'Name': coin, 'FromPrice': indexPrice['Price'].values[0], 'MaxPrice': maxPrice['Price'], 'Per': per}, ignore_index=True)\n",
    "        else:\n",
    "            per = \"-\"\n",
    "            df = df.append(\n",
    "                {'Name': coin, 'FromPrice': \"없음\", 'MaxPrice': maxPrice['Price'], 'Per': per}, ignore_index=True)\n",
    "    df.to_excel('ppd.xlsx', index=False)\n",
    "    # with pd.ExcelWriter('./per.xlsx', engine='xlsxwriter') as writer:\n",
    "    #     df.to_excel(writer, index=False)\n",
    "    #     ws = writer.sheets['코인캑코']\n",
    "    # ## 칼럼 폭 조절\n",
    "    # for i, col in enumerate(df.columns):\n",
    "    #     width = '30'\n",
    "    #     ws.set_column(i, i, width+1) ## 여백을 위해 1 추가\n",
    "    #     ws.autofilter(0, 0, df.shape[0] - 1, df.shape[1] - 1) ## 첫 행 필터 추가\n",
    "    #     ws.freeze_panes(1, 0) ## 첫 행 고정\n",
    "    print('저장완료.')\n",
    "except Exception as e:\n",
    "    print('Error.',e)\n",
    "\n"
   ]
  },
  {
   "cell_type": "code",
   "execution_count": 2,
   "metadata": {},
   "outputs": [
    {
     "data": {
      "text/plain": [
       "['', 'Users', 'jed', 'Desktop', '개발', 'Gecko', 'gecko']"
      ]
     },
     "execution_count": 2,
     "metadata": {},
     "output_type": "execute_result"
    }
   ],
   "source": [
    "import os\n",
    "\n",
    "path = os.getcwd().split('/')\n",
    "\n",
    "for i in range(2):\n",
    "    new += '/' + path[i]\n",
    "    "
   ]
  },
  {
   "cell_type": "code",
   "execution_count": 26,
   "metadata": {},
   "outputs": [
    {
     "ename": "TypeError",
     "evalue": "first argument must be an iterable of pandas objects, you passed an object of type \"DataFrame\"",
     "output_type": "error",
     "traceback": [
      "\u001b[0;31m---------------------------------------------------------------------------\u001b[0m",
      "\u001b[0;31mTypeError\u001b[0m                                 Traceback (most recent call last)",
      "\u001b[1;32m/Users/jed/Desktop/개발/Gecko/gecko/SaveToExcel.ipynb 셀 3\u001b[0m in \u001b[0;36m<cell line: 13>\u001b[0;34m()\u001b[0m\n\u001b[1;32m     <a href='vscode-notebook-cell:/Users/jed/Desktop/%EA%B0%9C%EB%B0%9C/Gecko/gecko/SaveToExcel.ipynb#W3sZmlsZQ%3D%3D?line=15'>16</a>\u001b[0m     json \u001b[39m=\u001b[39m res\u001b[39m.\u001b[39mjson()\n\u001b[1;32m     <a href='vscode-notebook-cell:/Users/jed/Desktop/%EA%B0%9C%EB%B0%9C/Gecko/gecko/SaveToExcel.ipynb#W3sZmlsZQ%3D%3D?line=16'>17</a>\u001b[0m     df \u001b[39m=\u001b[39m pd\u001b[39m.\u001b[39mDataFrame(json[\u001b[39m'\u001b[39m\u001b[39mdata\u001b[39m\u001b[39m'\u001b[39m])\n\u001b[0;32m---> <a href='vscode-notebook-cell:/Users/jed/Desktop/%EA%B0%9C%EB%B0%9C/Gecko/gecko/SaveToExcel.ipynb#W3sZmlsZQ%3D%3D?line=17'>18</a>\u001b[0m     pd\u001b[39m.\u001b[39;49mconcat(df)\n\u001b[1;32m     <a href='vscode-notebook-cell:/Users/jed/Desktop/%EA%B0%9C%EB%B0%9C/Gecko/gecko/SaveToExcel.ipynb#W3sZmlsZQ%3D%3D?line=18'>19</a>\u001b[0m     time\u001b[39m.\u001b[39msleep(\u001b[39m10\u001b[39m)\n\u001b[1;32m     <a href='vscode-notebook-cell:/Users/jed/Desktop/%EA%B0%9C%EB%B0%9C/Gecko/gecko/SaveToExcel.ipynb#W3sZmlsZQ%3D%3D?line=19'>20</a>\u001b[0m \u001b[39m# df.to_excel('dd.xlsx',sheet_name='sheet')\u001b[39;00m\n",
      "File \u001b[0;32m~/miniforge3/envs/AI/lib/python3.8/site-packages/pandas/util/_decorators.py:311\u001b[0m, in \u001b[0;36mdeprecate_nonkeyword_arguments.<locals>.decorate.<locals>.wrapper\u001b[0;34m(*args, **kwargs)\u001b[0m\n\u001b[1;32m    305\u001b[0m \u001b[39mif\u001b[39;00m \u001b[39mlen\u001b[39m(args) \u001b[39m>\u001b[39m num_allow_args:\n\u001b[1;32m    306\u001b[0m     warnings\u001b[39m.\u001b[39mwarn(\n\u001b[1;32m    307\u001b[0m         msg\u001b[39m.\u001b[39mformat(arguments\u001b[39m=\u001b[39marguments),\n\u001b[1;32m    308\u001b[0m         \u001b[39mFutureWarning\u001b[39;00m,\n\u001b[1;32m    309\u001b[0m         stacklevel\u001b[39m=\u001b[39mstacklevel,\n\u001b[1;32m    310\u001b[0m     )\n\u001b[0;32m--> 311\u001b[0m \u001b[39mreturn\u001b[39;00m func(\u001b[39m*\u001b[39;49margs, \u001b[39m*\u001b[39;49m\u001b[39m*\u001b[39;49mkwargs)\n",
      "File \u001b[0;32m~/miniforge3/envs/AI/lib/python3.8/site-packages/pandas/core/reshape/concat.py:347\u001b[0m, in \u001b[0;36mconcat\u001b[0;34m(objs, axis, join, ignore_index, keys, levels, names, verify_integrity, sort, copy)\u001b[0m\n\u001b[1;32m    143\u001b[0m \u001b[39m@deprecate_nonkeyword_arguments\u001b[39m(version\u001b[39m=\u001b[39m\u001b[39mNone\u001b[39;00m, allowed_args\u001b[39m=\u001b[39m[\u001b[39m\"\u001b[39m\u001b[39mobjs\u001b[39m\u001b[39m\"\u001b[39m])\n\u001b[1;32m    144\u001b[0m \u001b[39mdef\u001b[39;00m \u001b[39mconcat\u001b[39m(\n\u001b[1;32m    145\u001b[0m     objs: Iterable[NDFrame] \u001b[39m|\u001b[39m Mapping[Hashable, NDFrame],\n\u001b[0;32m   (...)\u001b[0m\n\u001b[1;32m    154\u001b[0m     copy: \u001b[39mbool\u001b[39m \u001b[39m=\u001b[39m \u001b[39mTrue\u001b[39;00m,\n\u001b[1;32m    155\u001b[0m ) \u001b[39m-\u001b[39m\u001b[39m>\u001b[39m DataFrame \u001b[39m|\u001b[39m Series:\n\u001b[1;32m    156\u001b[0m     \u001b[39m\"\"\"\u001b[39;00m\n\u001b[1;32m    157\u001b[0m \u001b[39m    Concatenate pandas objects along a particular axis with optional set logic\u001b[39;00m\n\u001b[1;32m    158\u001b[0m \u001b[39m    along the other axes.\u001b[39;00m\n\u001b[0;32m   (...)\u001b[0m\n\u001b[1;32m    345\u001b[0m \u001b[39m    ValueError: Indexes have overlapping values: ['a']\u001b[39;00m\n\u001b[1;32m    346\u001b[0m \u001b[39m    \"\"\"\u001b[39;00m\n\u001b[0;32m--> 347\u001b[0m     op \u001b[39m=\u001b[39m _Concatenator(\n\u001b[1;32m    348\u001b[0m         objs,\n\u001b[1;32m    349\u001b[0m         axis\u001b[39m=\u001b[39;49maxis,\n\u001b[1;32m    350\u001b[0m         ignore_index\u001b[39m=\u001b[39;49mignore_index,\n\u001b[1;32m    351\u001b[0m         join\u001b[39m=\u001b[39;49mjoin,\n\u001b[1;32m    352\u001b[0m         keys\u001b[39m=\u001b[39;49mkeys,\n\u001b[1;32m    353\u001b[0m         levels\u001b[39m=\u001b[39;49mlevels,\n\u001b[1;32m    354\u001b[0m         names\u001b[39m=\u001b[39;49mnames,\n\u001b[1;32m    355\u001b[0m         verify_integrity\u001b[39m=\u001b[39;49mverify_integrity,\n\u001b[1;32m    356\u001b[0m         copy\u001b[39m=\u001b[39;49mcopy,\n\u001b[1;32m    357\u001b[0m         sort\u001b[39m=\u001b[39;49msort,\n\u001b[1;32m    358\u001b[0m     )\n\u001b[1;32m    360\u001b[0m     \u001b[39mreturn\u001b[39;00m op\u001b[39m.\u001b[39mget_result()\n",
      "File \u001b[0;32m~/miniforge3/envs/AI/lib/python3.8/site-packages/pandas/core/reshape/concat.py:382\u001b[0m, in \u001b[0;36m_Concatenator.__init__\u001b[0;34m(self, objs, axis, join, keys, levels, names, ignore_index, verify_integrity, copy, sort)\u001b[0m\n\u001b[1;32m    368\u001b[0m \u001b[39mdef\u001b[39;00m \u001b[39m__init__\u001b[39m(\n\u001b[1;32m    369\u001b[0m     \u001b[39mself\u001b[39m,\n\u001b[1;32m    370\u001b[0m     objs: Iterable[NDFrame] \u001b[39m|\u001b[39m Mapping[Hashable, NDFrame],\n\u001b[0;32m   (...)\u001b[0m\n\u001b[1;32m    379\u001b[0m     sort\u001b[39m=\u001b[39m\u001b[39mFalse\u001b[39;00m,\n\u001b[1;32m    380\u001b[0m ):\n\u001b[1;32m    381\u001b[0m     \u001b[39mif\u001b[39;00m \u001b[39misinstance\u001b[39m(objs, (ABCSeries, ABCDataFrame, \u001b[39mstr\u001b[39m)):\n\u001b[0;32m--> 382\u001b[0m         \u001b[39mraise\u001b[39;00m \u001b[39mTypeError\u001b[39;00m(\n\u001b[1;32m    383\u001b[0m             \u001b[39m\"\u001b[39m\u001b[39mfirst argument must be an iterable of pandas \u001b[39m\u001b[39m\"\u001b[39m\n\u001b[1;32m    384\u001b[0m             \u001b[39mf\u001b[39m\u001b[39m'\u001b[39m\u001b[39mobjects, you passed an object of type \u001b[39m\u001b[39m\"\u001b[39m\u001b[39m{\u001b[39;00m\u001b[39mtype\u001b[39m(objs)\u001b[39m.\u001b[39m\u001b[39m__name__\u001b[39m\u001b[39m}\u001b[39;00m\u001b[39m\"\u001b[39m\u001b[39m'\u001b[39m\n\u001b[1;32m    385\u001b[0m         )\n\u001b[1;32m    387\u001b[0m     \u001b[39mif\u001b[39;00m join \u001b[39m==\u001b[39m \u001b[39m\"\u001b[39m\u001b[39mouter\u001b[39m\u001b[39m\"\u001b[39m:\n\u001b[1;32m    388\u001b[0m         \u001b[39mself\u001b[39m\u001b[39m.\u001b[39mintersect \u001b[39m=\u001b[39m \u001b[39mFalse\u001b[39;00m\n",
      "\u001b[0;31mTypeError\u001b[0m: first argument must be an iterable of pandas objects, you passed an object of type \"DataFrame\""
     ]
    }
   ],
   "source": [
    "import requests \n",
    "import json\n",
    "import pprint\n",
    "import pandas as pd\n",
    "import time\n",
    "from datetime import datetime, timedelta, date\n",
    "\n",
    "# 시간 제한이 없는건지 엄청 빨리 응답함.. \n",
    "# # 오늘까지 업데이트 필요.\n",
    "date = date(2020,11,1)\n",
    "\n",
    "\n",
    "for i in range(3):\n",
    "    res = requests.get(f'https://api.coinmarketcap.com/data-api/v3/cryptocurrency/listings/historical?date=2020-11-{date.day}&start=1&limit=300&convertId=2781,1')\n",
    "    date = date + timedelta(days=1)\n",
    "    json = res.json()\n",
    "    df = pd.DataFrame(json['data'])\n",
    "    pd.concat(df[])\n",
    "    time.sleep(10)\n",
    "# df.to_excel('dd.xlsx',sheet_name='sheet')\n",
    "print(df.count)\n",
    "\n",
    "\n",
    "# for data in json['data']:\n",
    "#     df.append(data['name'])\n",
    "\n",
    "# df.to_excel('2020CoinList',json['data'])"
   ]
  },
  {
   "cell_type": "code",
   "execution_count": 41,
   "metadata": {},
   "outputs": [
    {
     "name": "stdout",
     "output_type": "stream",
     "text": [
      "{'endDate': '2018-04-30',\n",
      " 'results': [{'data': [{'period': '2017-01-01', 'ratio': 3.21489},\n",
      "                       {'period': '2017-02-01', 'ratio': 2.59447},\n",
      "                       {'period': '2017-03-01', 'ratio': 2.53807},\n",
      "                       {'period': '2017-04-01', 'ratio': 3.38409},\n",
      "                       {'period': '2017-05-01', 'ratio': 4.96333},\n",
      "                       {'period': '2017-06-01', 'ratio': 5.47095},\n",
      "                       {'period': '2017-07-01', 'ratio': 3.15848},\n",
      "                       {'period': '2017-08-01', 'ratio': 3.7789},\n",
      "                       {'period': '2017-09-01', 'ratio': 4.00451},\n",
      "                       {'period': '2017-10-01', 'ratio': 3.8917},\n",
      "                       {'period': '2017-11-01', 'ratio': 4.85053},\n",
      "                       {'period': '2017-12-01', 'ratio': 2.76367},\n",
      "                       {'period': '2018-01-01', 'ratio': 2.03045},\n",
      "                       {'period': '2018-02-01', 'ratio': 1.52284},\n",
      "                       {'period': '2018-03-01', 'ratio': 2.36886},\n",
      "                       {'period': '2018-04-01', 'ratio': 2.87648}],\n",
      "              'keywords': ['야간개장', 'korean'],\n",
      "              'title': '경복궁'},\n",
      "             {'data': [{'period': '2017-01-01', 'ratio': 66.72306},\n",
      "                       {'period': '2017-02-01', 'ratio': 61.08291},\n",
      "                       {'period': '2017-03-01', 'ratio': 86.74562},\n",
      "                       {'period': '2017-04-01', 'ratio': 73.99887},\n",
      "                       {'period': '2017-05-01', 'ratio': 85.33558},\n",
      "                       {'period': '2017-06-01', 'ratio': 92.9498},\n",
      "                       {'period': '2017-07-01', 'ratio': 80.48505},\n",
      "                       {'period': '2017-08-01', 'ratio': 85.39199},\n",
      "                       {'period': '2017-09-01', 'ratio': 95.20586},\n",
      "                       {'period': '2017-10-01', 'ratio': 75.40891},\n",
      "                       {'period': '2017-11-01', 'ratio': 100},\n",
      "                       {'period': '2017-12-01', 'ratio': 79.30062},\n",
      "                       {'period': '2018-01-01', 'ratio': 55.66835},\n",
      "                       {'period': '2018-02-01', 'ratio': 38.86068},\n",
      "                       {'period': '2018-03-01', 'ratio': 68.24591},\n",
      "                       {'period': '2018-04-01', 'ratio': 62.26734}],\n",
      "              'keywords': ['영어', 'english'],\n",
      "              'title': '영어'}],\n",
      " 'startDate': '2017-01-01',\n",
      " 'timeUnit': 'month'}\n"
     ]
    }
   ],
   "source": [
    "\n",
    "#-*- coding: utf-8 -*-\n",
    "import os\n",
    "import sys\n",
    "import urllib.request\n",
    "import pprint\n",
    "import json\n",
    "client_id = \"JtYS_JRKw6fXnHivqrBG\"\n",
    "client_secret = \"nb0vD6NX0G\"\n",
    "url = \"https://openapi.naver.com/v1/datalab/search\";\n",
    "body = \"{\\\"startDate\\\":\\\"2017-01-01\\\",\\\"endDate\\\":\\\"2018-04-30\\\",\\\"timeUnit\\\":\\\"month\\\",\\\"keywordGroups\\\":[{\\\"groupName\\\":\\\"경복궁\\\",\\\"keywords\\\":[\\\"야간개장\\\",\\\"korean\\\"]},{\\\"groupName\\\":\\\"영어\\\",\\\"keywords\\\":[\\\"영어\\\",\\\"english\\\"]}],\\\"device\\\":\\\"pc\\\",\\\"ages\\\":[\\\"1\\\",\\\"2\\\"],\\\"gender\\\":\\\"f\\\"}\";\n",
    "\n",
    "request = urllib.request.Request(url)\n",
    "request.add_header(\"X-Naver-Client-Id\",client_id)\n",
    "request.add_header(\"X-Naver-Client-Secret\",client_secret)\n",
    "request.add_header(\"Content-Type\",\"application/json\")\n",
    "response = urllib.request.urlopen(request, data=body.encode(\"utf-8\"))\n",
    "rescode = response.getcode()\n",
    "\n",
    "if(rescode==200):\n",
    "    response_body = response.read()\n",
    "    result = json.loads(response_body)\n",
    "    pprint.pprint(result)\n",
    "else:\n",
    "    print(\"Error Code:\" + rescode)\n",
    "\n"
   ]
  },
  {
   "cell_type": "code",
   "execution_count": null,
   "metadata": {},
   "outputs": [],
   "source": []
  }
 ],
 "metadata": {
  "kernelspec": {
   "display_name": "Python 3",
   "language": "python",
   "name": "python3"
  },
  "language_info": {
   "codemirror_mode": {
    "name": "ipython",
    "version": 3
   },
   "file_extension": ".py",
   "mimetype": "text/x-python",
   "name": "python",
   "nbconvert_exporter": "python",
   "pygments_lexer": "ipython3",
   "version": "3.8.13"
  },
  "orig_nbformat": 4
 },
 "nbformat": 4,
 "nbformat_minor": 2
}
